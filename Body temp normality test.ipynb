{
 "cells": [
  {
   "cell_type": "markdown",
   "metadata": {},
   "source": [
    "# Example normality test\n",
    "\n",
    "We hypothesize that the human body temp data is not normal because we don't see enough extreme values. To test this, we compare the range (max - min) of our data to the range of a normal distribution with the parameters we have fitted in our exercises (using the sample mean and stddev)\n",
    "\n",
    "Findings: our data are actually *more* spread out than the normal distribution would predict, negating our hypothesis. Also, the test statistic is only at the 94th percentile, meaning we also could not reject a null hypothesis that our data is so much more spread out that it's not normal."
   ]
  },
  {
   "cell_type": "code",
   "execution_count": 1,
   "metadata": {
    "collapsed": true
   },
   "outputs": [],
   "source": [
    "####################################################\n",
    "# Boilerplate import/setup code for general analysis\n",
    "# everett.wetchler@gmail.com\n",
    "####################################################\n",
    "\n",
    "import datetime as dt\n",
    "import os\n",
    "import random\n",
    "\n",
    "import matplotlib.pyplot as plt\n",
    "import numpy as np\n",
    "import pandas as pd\n",
    "import seaborn as sns\n",
    "\n",
    "%matplotlib inline\n",
    "\n",
    "####################################################\n",
    "# END Boilerplate\n",
    "####################################################"
   ]
  },
  {
   "cell_type": "code",
   "execution_count": 2,
   "metadata": {},
   "outputs": [
    {
     "data": {
      "text/html": [
       "<div>\n",
       "<style>\n",
       "    .dataframe thead tr:only-child th {\n",
       "        text-align: right;\n",
       "    }\n",
       "\n",
       "    .dataframe thead th {\n",
       "        text-align: left;\n",
       "    }\n",
       "\n",
       "    .dataframe tbody tr th {\n",
       "        vertical-align: top;\n",
       "    }\n",
       "</style>\n",
       "<table border=\"1\" class=\"dataframe\">\n",
       "  <thead>\n",
       "    <tr style=\"text-align: right;\">\n",
       "      <th></th>\n",
       "      <th>temperature</th>\n",
       "      <th>gender</th>\n",
       "      <th>heart_rate</th>\n",
       "    </tr>\n",
       "  </thead>\n",
       "  <tbody>\n",
       "    <tr>\n",
       "      <th>0</th>\n",
       "      <td>99.3</td>\n",
       "      <td>F</td>\n",
       "      <td>68.0</td>\n",
       "    </tr>\n",
       "    <tr>\n",
       "      <th>1</th>\n",
       "      <td>98.4</td>\n",
       "      <td>F</td>\n",
       "      <td>81.0</td>\n",
       "    </tr>\n",
       "    <tr>\n",
       "      <th>2</th>\n",
       "      <td>97.8</td>\n",
       "      <td>M</td>\n",
       "      <td>73.0</td>\n",
       "    </tr>\n",
       "    <tr>\n",
       "      <th>3</th>\n",
       "      <td>99.2</td>\n",
       "      <td>F</td>\n",
       "      <td>66.0</td>\n",
       "    </tr>\n",
       "    <tr>\n",
       "      <th>4</th>\n",
       "      <td>98.0</td>\n",
       "      <td>F</td>\n",
       "      <td>73.0</td>\n",
       "    </tr>\n",
       "  </tbody>\n",
       "</table>\n",
       "</div>"
      ],
      "text/plain": [
       "   temperature gender  heart_rate\n",
       "0         99.3      F        68.0\n",
       "1         98.4      F        81.0\n",
       "2         97.8      M        73.0\n",
       "3         99.2      F        66.0\n",
       "4         98.0      F        73.0"
      ]
     },
     "execution_count": 2,
     "metadata": {},
     "output_type": "execute_result"
    }
   ],
   "source": [
    "df = pd.read_csv('data/human_body_temperature.csv')\n",
    "df.head()"
   ]
  },
  {
   "cell_type": "markdown",
   "metadata": {},
   "source": [
    "### Our test statistic will be the \"range\" of the data, the distance from its max to min value"
   ]
  },
  {
   "cell_type": "code",
   "execution_count": 3,
   "metadata": {
    "collapsed": true
   },
   "outputs": [],
   "source": [
    "body_temp_range = max(df.temperature) - min(df.temperature)"
   ]
  },
  {
   "cell_type": "markdown",
   "metadata": {},
   "source": [
    "### Code to simulate what kind of ranges we would get if the data was *actually* normal (with the parameters we infer from the sample)"
   ]
  },
  {
   "cell_type": "code",
   "execution_count": 4,
   "metadata": {},
   "outputs": [
    {
     "name": "stdout",
     "output_type": "stream",
     "text": [
      "Simulating 10000 draws of 130 samples from N(98.249, 0.733)\n"
     ]
    }
   ],
   "source": [
    "MU = df.temperature.mean()  # 98.25\n",
    "SIGMA = df.temperature.std()  # 0.733\n",
    "N = len(df.temperature)  # 130\n",
    "num_draws = 10000\n",
    "\n",
    "print(\"Simulating %d draws of %d samples from N(%.3f, %.3f)\" % (num_draws, N, MU, SIGMA))\n",
    "\n",
    "ranges = []\n",
    "for i in range(1000):\n",
    "    s = [np.random.normal(MU, SIGMA) for i in range(N)]\n",
    "    ranges.append(max(s) - min(s))"
   ]
  },
  {
   "cell_type": "markdown",
   "metadata": {},
   "source": [
    "### We hypothesized that the range of our body temp data is *smaller* than a normal distribution would predict, so our p value is the fraction of normal samples that have a smaller range"
   ]
  },
  {
   "cell_type": "code",
   "execution_count": 5,
   "metadata": {
    "collapsed": true
   },
   "outputs": [],
   "source": [
    "frac_below = sum(1 for r in ranges if r < body_temp_range) / float(len(ranges))"
   ]
  },
  {
   "cell_type": "code",
   "execution_count": 6,
   "metadata": {},
   "outputs": [
    {
     "data": {
      "image/png": "[encoded data removed]",
      "text/plain": [
       "<matplotlib.figure.Figure at 0x115af2a20>"
      ]
     },
     "metadata": {},
     "output_type": "display_data"
    }
   ],
   "source": [
    "fig, ax = plt.subplots(1)\n",
    "fig.set_size_inches(9, 6)\n",
    "sns.distplot(ranges, ax=ax)\n",
    "ax.plot([body_temp_range, body_temp_range], [0, 1])\n",
    "ax.set_title(\"Distribution of range (max - min) in repeated \"\n",
    "             \"%d-item samples from N(%.2f, %.2f)\" % (\n",
    "                 N, MU, SIGMA), size=14)\n",
    "ax.set_xlabel(\"Range in degrees from max to min temp\", size=14)\n",
    "ax.text(4.6, .7,\n",
    "        'Our body temp data range: %.2f\\n'\n",
    "        'p = %.4f \\n' % (\n",
    "            body_temp_range, frac_below), size=12)\n",
    "pass"
   ]
  },
  {
   "cell_type": "code",
   "execution_count": null,
   "metadata": {
    "collapsed": true
   },
   "outputs": [],
   "source": []
  }
 ],
 "metadata": {
  "kernelspec": {
   "display_name": "Python 3",
   "language": "python",
   "name": "python3"
  },
  "language_info": {
   "codemirror_mode": {
    "name": "ipython",
    "version": 3
   },
   "file_extension": ".py",
   "mimetype": "text/x-python",
   "name": "python",
   "nbconvert_exporter": "python",
   "pygments_lexer": "ipython3",
   "version": "3.6.1"
  }
 },
 "nbformat": 4,
 "nbformat_minor": 2
}
